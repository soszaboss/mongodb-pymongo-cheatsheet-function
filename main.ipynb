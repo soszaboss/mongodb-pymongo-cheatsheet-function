{
 "cells": [
  {
   "cell_type": "code",
   "execution_count": 71,
   "metadata": {},
   "outputs": [],
   "source": [
    "import pymongo\n",
    "from pymongo import MongoClient\n",
    "import numpy as np\n",
    "import datetime\n",
    "from pprint import pprint"
   ]
  },
  {
   "cell_type": "code",
   "execution_count": 55,
   "metadata": {},
   "outputs": [],
   "source": [
    "URI = \"mongodb://127.0.0.1:27017/?directConnection=true&serverSelectionTimeoutMS=2000\"\n",
    "\n",
    "def client(uri:str=URI):\n",
    "    return MongoClient(uri)\n",
    "\n",
    "def close():\n",
    "    return client().close()\n",
    "\n",
    "def get_collection(db:str, collection_name:str):\n",
    "    clt = client()\n",
    "    db = clt.get_database(db)\n",
    "    collection = db.get_collection(collection_name)\n",
    "    return collection"
   ]
  },
  {
   "cell_type": "markdown",
   "metadata": {},
   "source": [
    "<h1 style='text-align:center;'> Create a Database and a collection </h1>"
   ]
  },
  {
   "cell_type": "code",
   "execution_count": 81,
   "metadata": {},
   "outputs": [],
   "source": [
    "def create_dbs(db_name:str):\n",
    "    try:\n",
    "        clt = client()\n",
    "        db = clt[db_name]\n",
    "        close()\n",
    "    except Exception as e:\n",
    "            raise Exception(\"The following error occurred: \", e)\n",
    "    \n",
    "def create_collection(db:str, collection_name:str):\n",
    "    try:\n",
    "        clt = client()\n",
    "        db = clt.get_database(db)\n",
    "        db.create_collection(collection_name)\n",
    "        close()\n",
    "    except Exception as e:\n",
    "        raise Exception(\"The following error occurred: \", e)"
   ]
  },
  {
   "cell_type": "markdown",
   "metadata": {},
   "source": [
    "<h1 style='text-align:center;'> Getting a collection </h1>"
   ]
  },
  {
   "cell_type": "code",
   "execution_count": 60,
   "metadata": {},
   "outputs": [],
   "source": [
    "try:\n",
    "    clt = client()\n",
    "    get_collection(db='to_do_list', collection_name='tasks')\n",
    "    clt.close()\n",
    "except Exception as e:\n",
    "        raise Exception(\"The following error occurred: \", e)"
   ]
  },
  {
   "cell_type": "markdown",
   "metadata": {},
   "source": [
    "<h1 style='text-align:center;'> Insert One </h1>"
   ]
  },
  {
   "cell_type": "code",
   "execution_count": 61,
   "metadata": {},
   "outputs": [],
   "source": [
    "def insert_one(db, collection_name:str, doc:dict):\n",
    "    try:\n",
    "        clt = client()\n",
    "        collection = get_collection(db, collection_name)\n",
    "        doc = collection.insert_one(doc)\n",
    "        clt.close()\n",
    "    except Exception as e:\n",
    "        raise Exception(\"The following error occurred: \", e)\n",
    "    else:\n",
    "        return doc.inserted_id\n"
   ]
  },
  {
   "cell_type": "code",
   "execution_count": 62,
   "metadata": {},
   "outputs": [
    {
     "name": "stdout",
     "output_type": "stream",
     "text": [
      "665c5cf11066889440ca3c1b\n"
     ]
    }
   ],
   "source": [
    "doc = {\n",
    "        \"task\": \"Dormir\",\n",
    "        \"description\": \"Ne rien faire de toute la journée.\"\n",
    "    }\n",
    "\n",
    "print(insert_one(db='to_do_list', collection_name='tasks', doc=doc))"
   ]
  },
  {
   "cell_type": "markdown",
   "metadata": {},
   "source": [
    "<h1 style='text-align:center;'> Insert Many </h1>"
   ]
  },
  {
   "cell_type": "code",
   "execution_count": 51,
   "metadata": {},
   "outputs": [],
   "source": [
    "def insert_many(db:str , collection_name:str, docs:list):\n",
    "    try:\n",
    "        clt = client()\n",
    "        collection = get_collection(db, collection_name)\n",
    "        for task in docs:\n",
    "            typ = type(task)\n",
    "            if typ != dict:\n",
    "                raise Exception( f'collection has to be a list of dictionaries: {task}')\n",
    "        data = collection.insert_many(docs)\n",
    "        client.close()\n",
    "    except Exception as e:\n",
    "        raise Exception(\"The following error occurred: \", e)\n",
    "    else:\n",
    "        return data.inserted_ids\n"
   ]
  },
  {
   "cell_type": "code",
   "execution_count": 64,
   "metadata": {},
   "outputs": [
    {
     "data": {
      "text/plain": [
       "[ObjectId('665c5d8a1066889440ca3c1d'), ObjectId('665c5d8a1066889440ca3c1e')]"
      ]
     },
     "execution_count": 64,
     "metadata": {},
     "output_type": "execute_result"
    }
   ],
   "source": [
    "# tasks = [\n",
    "#     {\n",
    "#         \"task\": \"Acheter du lait\",\n",
    "#         \"description\": \"Aller au supermarché et acheter une bouteille de lait.\"\n",
    "#     },\n",
    "#     {\n",
    "#         \"task\": \"Appeler le plombier\",\n",
    "#         \"description\": \"Prendre rendez-vous avec le plombier pour réparer une fuite d'eau dans la cuisine.\"\n",
    "#     },\n",
    "#     {\n",
    "#         \"task\": \"Faire de l'exercice\",\n",
    "#         \"description\": \"Faire une séance de jogging de 30 minutes au parc.\"\n",
    "#     },\n",
    "#     {\n",
    "#         \"task\": \"Répondre aux e-mails\",\n",
    "#         \"description\": \"Vérifier la boîte de réception et répondre aux e-mails professionnels.\"\n",
    "#     },\n",
    "#     {\n",
    "#         \"task\": \"Préparer le dîner\",\n",
    "#         \"description\": \"Choisir une recette et préparer le dîner pour ce soir.\"\n",
    "#     },\n",
    "#     {\n",
    "#         \"task\": \"Lire un livre\",\n",
    "#         \"description\": \"Lire le dernier roman de l'auteur préféré.\"\n",
    "#     },\n",
    "#     {\n",
    "#         \"task\": \"Faire les courses\",\n",
    "#         \"description\": \"Faire une liste des courses et acheter les produits nécessaires.\"\n",
    "#     },\n",
    "#     {\n",
    "#         \"task\": \"Nettoyer la maison\",\n",
    "#         \"description\": \"Passer l'aspirateur, faire la poussière et nettoyer les vitres.\"\n",
    "#     }\n",
    "# ]\n",
    "new_posts = [\n",
    "    {\n",
    "        \"author\": \"Mike\",\n",
    "        \"text\": \"Another post!\",\n",
    "        \"tags\": [\"bulk\", \"insert\"],\n",
    "        \"date\": datetime.datetime(2009, 11, 12, 11, 14),\n",
    "    },\n",
    "    {\n",
    "        \"author\": \"Eliot\",\n",
    "        \"title\": \"MongoDB is fun\",\n",
    "        \"text\": \"and pretty easy too!\",\n",
    "        \"date\": datetime.datetime(2009, 11, 10, 10, 45),\n",
    "    },\n",
    "]\n",
    "insert_many(db='to_do_list', collection_name='tasks', docs=new_posts)"
   ]
  },
  {
   "cell_type": "markdown",
   "metadata": {},
   "source": [
    "<h1 style='text-align:center;'> Update One </h1>"
   ]
  },
  {
   "cell_type": "code",
   "execution_count": 96,
   "metadata": {},
   "outputs": [],
   "source": [
    "def update_one(db, collection_name:str, query_filter:dict, update_operation:dict, upsert=False):\n",
    "    try:\n",
    "        clt = client()\n",
    "        collection = get_collection(db, collection_name)\n",
    "        if not query_filter and not update_operation:\n",
    "            raise Exception('query filter and update operation cannot be empty')\n",
    "        updated_data = collection.update_one(query_filter, update_operation, upsert=upsert)\n",
    "        clt.close()\n",
    "    except Exception as e:\n",
    "        raise Exception(\"The following error occurred: \", e)\n",
    "    else:\n",
    "        if not upsert:\n",
    "            return updated_data.raw_result\n",
    "        else:\n",
    "            return updated_data.upserted_id\n"
   ]
  },
  {
   "cell_type": "markdown",
   "metadata": {},
   "source": [
    "<h1 style='text-align:center;'> Update Many </h1>"
   ]
  },
  {
   "cell_type": "code",
   "execution_count": null,
   "metadata": {},
   "outputs": [],
   "source": [
    "def update_many(db, collection_name:str, query_filter:dict, update_operation:dict, upsert=False):\n",
    "    try:\n",
    "        clt = client()\n",
    "        collection = get_collection(db, collection_name)\n",
    "        if not query_filter and not update_operation:\n",
    "            raise Exception('query filter and update operation cannot be empty')\n",
    "        updated_data = collection.update_many(query_filter, update_operation, upsert=upsert)\n",
    "        clt.close()\n",
    "    except Exception as e:\n",
    "        raise Exception(\"The following error occurred: \", e)\n",
    "    else:\n",
    "        if not upsert:\n",
    "            return updated_data.raw_result\n",
    "        else:\n",
    "            return updated_data.upserted_id\n"
   ]
  },
  {
   "cell_type": "code",
   "execution_count": 202,
   "metadata": {},
   "outputs": [
    {
     "data": {
      "text/plain": [
       "{'n': 1, 'nModified': 1, 'ok': 1.0, 'updatedExisting': True}"
      ]
     },
     "execution_count": 202,
     "metadata": {},
     "output_type": "execute_result"
    }
   ],
   "source": [
    "update_one(db='to_do_list', collection_name='tasks', query_filter=({'task': 'Dormir et se baigner'}), update_operation={'$set': {'task': 'Dormir et se baigner sans oublier de faire les devoir.'}})"
   ]
  },
  {
   "cell_type": "markdown",
   "metadata": {},
   "source": [
    "<h1 style='text-align:center;'> Delete One and Many </h1>"
   ]
  },
  {
   "cell_type": "code",
   "execution_count": 206,
   "metadata": {},
   "outputs": [],
   "source": [
    "def delete_one(db, collection_name:str, query_filter:dict):\n",
    "    try:\n",
    "        clt = client()\n",
    "        collection = get_collection(db, collection_name)\n",
    "        if not query_filter:\n",
    "            raise Exception('query filter operation cannot be empty')\n",
    "        deleted_data = collection.delete_one(query_filter)\n",
    "        clt.close()\n",
    "    except Exception as e:\n",
    "        raise Exception(\"The following error occurred: \", e)\n",
    "    else:\n",
    "        return deleted_data.raw_result\n",
    "    \n",
    "def delete_many(db, collection_name:str, query_filter:dict):\n",
    "    try:\n",
    "        clt = client()\n",
    "        collection = get_collection(db, collection_name)\n",
    "        if not query_filter:\n",
    "            raise Exception('query filter operation cannot be empty')\n",
    "        deleted_data = collection.delete_many(query_filter)\n",
    "        clt.close()\n",
    "    except Exception as e:\n",
    "        raise Exception(\"The following error occurred: \", e)\n",
    "    else:\n",
    "        return deleted_data.raw_result\n"
   ]
  },
  {
   "cell_type": "code",
   "execution_count": 207,
   "metadata": {},
   "outputs": [
    {
     "data": {
      "text/plain": [
       "{'n': 1, 'ok': 1.0}"
      ]
     },
     "execution_count": 207,
     "metadata": {},
     "output_type": "execute_result"
    }
   ],
   "source": [
    "delete_one(db='to_do_list', collection_name='tasks', query_filter=({'task': 'Nettoyer la maison'}))"
   ]
  },
  {
   "cell_type": "markdown",
   "metadata": {},
   "source": [
    "<h1 style='text-align:center;'> Find </h1>"
   ]
  },
  {
   "cell_type": "code",
   "execution_count": 199,
   "metadata": {},
   "outputs": [],
   "source": [
    "def find_decorator(param=None):\n",
    "    def decorator(func):\n",
    "        def wrapper(*args, **kwargs):\n",
    "            try:\n",
    "                collection = get_collection(*args, **kwargs)\n",
    "            except Exception as e:\n",
    "                raise Exception(\"The following error occurred: \", e)\n",
    "            else:\n",
    "                if param is not None:\n",
    "                    return collection.find(*param)\n",
    "                else:\n",
    "                    return collection.find()\n",
    "        return wrapper\n",
    "    return decorator\n",
    "\n",
    "def list_find_decorator_items(func):\n",
    "    def items(*args, **kwargs):\n",
    "        return list(func(*args, **kwargs))\n",
    "    return items\n"
   ]
  },
  {
   "cell_type": "code",
   "execution_count": 208,
   "metadata": {},
   "outputs": [
    {
     "name": "stdout",
     "output_type": "stream",
     "text": [
      "[{'_id': ObjectId('665c5a931066889440ca3c00'), 'task': 'Acheter du lait', 'description': 'Aller au supermarché et acheter une bouteille de lait.'}, {'_id': ObjectId('665c5a931066889440ca3c01'), 'task': 'Appeler le plombier', 'description': \"Prendre rendez-vous avec le plombier pour réparer une fuite d'eau dans la cuisine.\"}, {'_id': ObjectId('665c5a931066889440ca3c02'), 'task': \"Faire de l'exercice\", 'description': 'Faire une séance de jogging de 30 minutes au parc.'}, {'_id': ObjectId('665c5a931066889440ca3c03'), 'task': 'Répondre aux e-mails', 'description': 'Vérifier la boîte de réception et répondre aux e-mails professionnels.'}, {'_id': ObjectId('665c5a931066889440ca3c04'), 'task': 'Préparer le dîner', 'description': 'Choisir une recette et préparer le dîner pour ce soir.'}, {'_id': ObjectId('665c5a931066889440ca3c05'), 'task': 'Lire un livre', 'description': \"Lire le dernier roman de l'auteur préféré.\"}, {'_id': ObjectId('665c5a931066889440ca3c06'), 'task': 'Faire les courses', 'description': 'Faire une liste des courses et acheter les produits nécessaires.'}, {'_id': ObjectId('665c5a931066889440ca3c07'), 'task': 'Nettoyer la maison', 'description': \"Passer l'aspirateur, faire la poussière et nettoyer les vitres.\"}, {'_id': ObjectId('665c5ab51066889440ca3c09'), 'task': 'Acheter du lait', 'description': 'Aller au supermarché et acheter une bouteille de lait.'}, {'_id': ObjectId('665c5ab51066889440ca3c0a'), 'task': 'Appeler le plombier', 'description': \"Prendre rendez-vous avec le plombier pour réparer une fuite d'eau dans la cuisine.\"}, {'_id': ObjectId('665c5ab51066889440ca3c0b'), 'task': \"Faire de l'exercice\", 'description': 'Faire une séance de jogging de 30 minutes au parc.'}, {'_id': ObjectId('665c5ab51066889440ca3c0c'), 'task': 'Répondre aux e-mails', 'description': 'Vérifier la boîte de réception et répondre aux e-mails professionnels.'}, {'_id': ObjectId('665c5ab51066889440ca3c0d'), 'task': 'Préparer le dîner', 'description': 'Choisir une recette et préparer le dîner pour ce soir.'}, {'_id': ObjectId('665c5ab51066889440ca3c0e'), 'task': 'Lire un livre', 'description': \"Lire le dernier roman de l'auteur préféré.\"}, {'_id': ObjectId('665c5ab51066889440ca3c0f'), 'task': 'Faire les courses', 'description': 'Faire une liste des courses et acheter les produits nécessaires.'}, {'_id': ObjectId('665c5ab51066889440ca3c10'), 'task': 'Nettoyer la maison', 'description': \"Passer l'aspirateur, faire la poussière et nettoyer les vitres.\"}, {'_id': ObjectId('665c5cf11066889440ca3c1b'), 'task': 'Dormir et se baigner sans oublier de faire les devoir.', 'description': 'Ne rien faire de toute la journée.'}, {'_id': ObjectId('665c5d8a1066889440ca3c1d'), 'author': 'Mike', 'text': 'Another post!', 'tags': ['bulk', 'insert'], 'date': datetime.datetime(2009, 11, 12, 11, 14)}, {'_id': ObjectId('665c5d8a1066889440ca3c1e'), 'author': 'Eliot', 'title': 'MongoDB is fun', 'text': 'and pretty easy too!', 'date': datetime.datetime(2009, 11, 10, 10, 45)}, {'_id': ObjectId('665ce81951524de751d49416'), 'task': 'Dormir et se baigner'}]\n"
     ]
    }
   ],
   "source": [
    "parameter = ({'task': 'Dormir et se baigner'}, {'task':1, \"description\":1})\n",
    "@list_find_decorator_items\n",
    "@find_decorator()#(param=parameter)\n",
    "def find(db, collection_name):\n",
    "    pass\n",
    "\n",
    "items = find(db='to_do_list', collection_name='tasks')\n",
    "print(items)"
   ]
  },
  {
   "cell_type": "markdown",
   "metadata": {},
   "source": [
    "<h1 style='text-align:center;'> Find and Sort</h1>"
   ]
  },
  {
   "cell_type": "code",
   "execution_count": null,
   "metadata": {},
   "outputs": [],
   "source": [
    "def find_and_sort(data:dict):\n",
    "    try:\n",
    "        items = find(db='to_do_list', collection_name='tasks').sort(data)\n",
    "    except Exception as e:\n",
    "        raise Exception(\"The following error occurred: \", e)\n",
    "    else:\n",
    "        return list(items)"
   ]
  },
  {
   "cell_type": "markdown",
   "metadata": {},
   "source": [
    "<h1 style='text-align:center;'> Find and Limit</h1>"
   ]
  },
  {
   "cell_type": "code",
   "execution_count": null,
   "metadata": {},
   "outputs": [],
   "source": [
    "def find_and_limit(limit:int):\n",
    "    try:\n",
    "        items = find(db='to_do_list', collection_name='tasks').limit(limit)\n",
    "    except Exception as e:\n",
    "        raise Exception(\"The following error occurred: \", e)\n",
    "    else:\n",
    "        return list(items)"
   ]
  },
  {
   "cell_type": "markdown",
   "metadata": {},
   "source": [
    "<h1 style='text-align:center;'> Find, Sort and Limit</h1>"
   ]
  },
  {
   "cell_type": "code",
   "execution_count": null,
   "metadata": {},
   "outputs": [],
   "source": [
    "def limit_and_sort(limit:int, data:dict):\n",
    "    try:\n",
    "        items = find(db='to_do_list', collection_name='tasks').sort(data).limit(limit)\n",
    "    except Exception as e:\n",
    "        raise Exception(\"The following error occurred: \", e)\n",
    "    else:\n",
    "        return list(items)"
   ]
  },
  {
   "cell_type": "code",
   "execution_count": 86,
   "metadata": {},
   "outputs": [
    {
     "data": {
      "text/plain": [
       "[{'task': 'Nettoyer la maison'},\n",
       " {'task': 'Acheter du lait'},\n",
       " {'task': 'Appeler le plombier'},\n",
       " {'task': \"Faire de l'exercice\"},\n",
       " {'task': 'Répondre aux e-mails'},\n",
       " {'task': 'Préparer le dîner'},\n",
       " {'task': 'Lire un livre'},\n",
       " {'task': 'Faire les courses'},\n",
       " {'task': 'Nettoyer la maison'},\n",
       " {'task': 'Acheter du lait'},\n",
       " {'task': 'Appeler le plombier'},\n",
       " {'task': \"Faire de l'exercice\"},\n",
       " {'task': 'Répondre aux e-mails'},\n",
       " {'task': 'Préparer le dîner'},\n",
       " {'task': 'Lire un livre'},\n",
       " {'task': 'Faire les courses'},\n",
       " {'task': 'Nettoyer la maison'},\n",
       " {'task': 'Dormir'},\n",
       " {},\n",
       " {}]"
      ]
     },
     "execution_count": 86,
     "metadata": {},
     "output_type": "execute_result"
    }
   ],
   "source": [
    "parameter = ({}, {'task': 1, '_id': 0})\n",
    "list(get_collection(db='to_do_list', collection_name='tasks').find(*parameter))"
   ]
  },
  {
   "cell_type": "markdown",
   "metadata": {},
   "source": [
    "<h1 style='text-align:center;'> Logical Operator</h1>"
   ]
  },
  {
   "cell_type": "markdown",
   "metadata": {},
   "source": [
    "<p style=\"margin-bottom:20px; background-color=yellow;\">not equal = $ne </p>\n",
    "<p style=\"margin-bottom:20px; background-color=yellow;\">exit = $exist </p>\n",
    "<p style=\"margin-bottom:20px; background-color=yellow;\">less than = $lt </p>\n",
    "<p style=\"margin-bottom:20px; background-color=yellow;\">less than or equal = $lte </p>\n",
    "<p style=\"margin-bottom:20px; background-color=yellow;\">greater than = $gt </p>\n",
    "<p style=\"margin-bottom:20px; background-color=yellow;\">greater than or equal = $gte </p>\n",
    "<p style=\"margin-bottom:20px; background-color=yellow;\">in value = $in </p>\n",
    "<p style=\"margin-bottom:20px; background-color=yellow;\">not in value = $nin </p>"
   ]
  }
 ],
 "metadata": {
  "kernelspec": {
   "display_name": ".venv",
   "language": "python",
   "name": "python3"
  },
  "language_info": {
   "codemirror_mode": {
    "name": "ipython",
    "version": 3
   },
   "file_extension": ".py",
   "mimetype": "text/x-python",
   "name": "python",
   "nbconvert_exporter": "python",
   "pygments_lexer": "ipython3",
   "version": "3.12.3"
  }
 },
 "nbformat": 4,
 "nbformat_minor": 2
}
